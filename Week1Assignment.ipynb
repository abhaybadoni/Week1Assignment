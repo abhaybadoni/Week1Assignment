{
 "cells": [
  {
   "cell_type": "code",
   "execution_count": 5,
   "id": "7113d42b-b919-419d-9bc9-8d7f1f95a3b7",
   "metadata": {
    "tags": []
   },
   "outputs": [
    {
     "data": {
      "text/plain": [
       "str"
      ]
     },
     "execution_count": 5,
     "metadata": {},
     "output_type": "execute_result"
    }
   ],
   "source": [
    "#Q1-\n",
    "#(i)\n",
    "my_name=\"Abhay Badoni\"\n",
    "type(my_name)"
   ]
  },
  {
   "cell_type": "code",
   "execution_count": 6,
   "id": "71970d60-eb54-47d9-82b5-0fac0f5cc58b",
   "metadata": {},
   "outputs": [
    {
     "data": {
      "text/plain": [
       "list"
      ]
     },
     "execution_count": 6,
     "metadata": {},
     "output_type": "execute_result"
    }
   ],
   "source": [
    "#(ii)\n",
    "my_list=[3,12.6,\"Abhay Badoni\",[4,5,6],(3,5,4)]\n",
    "type(my_list)"
   ]
  },
  {
   "cell_type": "code",
   "execution_count": 7,
   "id": "0b2415c0-6573-4425-9f35-be19a14cc016",
   "metadata": {},
   "outputs": [
    {
     "data": {
      "text/plain": [
       "float"
      ]
     },
     "execution_count": 7,
     "metadata": {},
     "output_type": "execute_result"
    }
   ],
   "source": [
    "#(iii)\n",
    "my_height=172.54\n",
    "type(my_height)"
   ]
  },
  {
   "cell_type": "code",
   "execution_count": 8,
   "id": "1883ddd5-c748-450d-96bf-bda850f8260a",
   "metadata": {},
   "outputs": [
    {
     "data": {
      "text/plain": [
       "tuple"
      ]
     },
     "execution_count": 8,
     "metadata": {},
     "output_type": "execute_result"
    }
   ],
   "source": [
    "#(iv)\n",
    "my_tuple=(13,13.24,'c')\n",
    "type(my_tuple)"
   ]
  },
  {
   "cell_type": "code",
   "execution_count": 1,
   "id": "ab360fd5-9667-4451-a30e-09740c26372f",
   "metadata": {},
   "outputs": [
    {
     "data": {
      "text/plain": [
       "str"
      ]
     },
     "execution_count": 1,
     "metadata": {},
     "output_type": "execute_result"
    }
   ],
   "source": [
    "#Q2\n",
    "#(i)\n",
    "var1=''\n",
    "#string\n",
    "type(var1)"
   ]
  },
  {
   "cell_type": "code",
   "execution_count": 2,
   "id": "379707e0-0a1c-4ee8-9db1-f93f38e0291e",
   "metadata": {},
   "outputs": [
    {
     "data": {
      "text/plain": [
       "str"
      ]
     },
     "execution_count": 2,
     "metadata": {},
     "output_type": "execute_result"
    }
   ],
   "source": [
    "#(ii)\n",
    "var2='[DS, ML, Python]'\n",
    "#string\n",
    "type(var2)"
   ]
  },
  {
   "cell_type": "code",
   "execution_count": 3,
   "id": "119c2dc0-1914-43e6-aadc-5e79213b6c01",
   "metadata": {},
   "outputs": [
    {
     "data": {
      "text/plain": [
       "list"
      ]
     },
     "execution_count": 3,
     "metadata": {},
     "output_type": "execute_result"
    }
   ],
   "source": [
    "#(iii)\n",
    "var3=['DS','ML', 'Python']\n",
    "#list\n",
    "type(var3)"
   ]
  },
  {
   "cell_type": "code",
   "execution_count": 4,
   "id": "2d6ce17f-2b64-44d3-87a7-36f4cd6b4b5b",
   "metadata": {},
   "outputs": [
    {
     "data": {
      "text/plain": [
       "int"
      ]
     },
     "execution_count": 4,
     "metadata": {},
     "output_type": "execute_result"
    }
   ],
   "source": [
    "#(iv)\n",
    "var4=1\n",
    "#int\n",
    "type(var4)"
   ]
  },
  {
   "cell_type": "code",
   "execution_count": 1,
   "id": "7f84eca7-f44c-4cc7-9e0a-5dcf9205e452",
   "metadata": {},
   "outputs": [
    {
     "name": "stdout",
     "output_type": "stream",
     "text": [
      "a/b= 3.75\n"
     ]
    }
   ],
   "source": [
    "#Q3\n",
    "#(i) / is 'Division' Operator\n",
    "\n",
    "a = 15\n",
    "b = 4\n",
    "print(\"a/b=\",a/b)"
   ]
  },
  {
   "cell_type": "code",
   "execution_count": 2,
   "id": "b39381a1-f550-4bb8-93f6-d59cd21ff848",
   "metadata": {},
   "outputs": [
    {
     "name": "stdout",
     "output_type": "stream",
     "text": [
      "a%b= 3\n"
     ]
    }
   ],
   "source": [
    "#(ii) % is 'modulo' Operator\n",
    "\n",
    "print(\"a%b=\",a%b)"
   ]
  },
  {
   "cell_type": "code",
   "execution_count": 3,
   "id": "21d88cfb-7f57-4800-a77b-14aab467bc29",
   "metadata": {},
   "outputs": [
    {
     "name": "stdout",
     "output_type": "stream",
     "text": [
      "a//b= 3\n"
     ]
    }
   ],
   "source": [
    "#(iii) // is 'floor division' Operator\n",
    "\n",
    "print(\"a//b=\",a//b)"
   ]
  },
  {
   "cell_type": "code",
   "execution_count": 5,
   "id": "fa3b6e8b-8246-4e84-bec3-520a8a6dc738",
   "metadata": {},
   "outputs": [
    {
     "name": "stdout",
     "output_type": "stream",
     "text": [
      "a**b= 50625\n"
     ]
    }
   ],
   "source": [
    "#(iv) ** is 'exponentiation' Operator\n",
    "\n",
    "print(\"a**b=\",a**b)"
   ]
  },
  {
   "cell_type": "code",
   "execution_count": 3,
   "id": "9c32adba-198a-4b05-be36-4ba686d3f97d",
   "metadata": {},
   "outputs": [],
   "source": [
    "#Q4\n",
    "ls= [3,2,1.3,22.6,\"String\",(3,7,6), [3,23,34],{3,2,5},'a',3+4j]"
   ]
  },
  {
   "cell_type": "code",
   "execution_count": 4,
   "id": "491de8ac-2183-46be-983c-8a4abc70a9bb",
   "metadata": {},
   "outputs": [
    {
     "name": "stdout",
     "output_type": "stream",
     "text": [
      "3 <class 'int'>\n",
      "2 <class 'int'>\n",
      "1.3 <class 'float'>\n",
      "22.6 <class 'float'>\n",
      "String <class 'str'>\n",
      "(3, 7, 6) <class 'tuple'>\n",
      "[3, 23, 34] <class 'list'>\n",
      "{2, 3, 5} <class 'set'>\n",
      "a <class 'str'>\n",
      "(3+4j) <class 'complex'>\n"
     ]
    }
   ],
   "source": [
    "for i in ls:\n",
    "    print(i, type(i))"
   ]
  },
  {
   "cell_type": "code",
   "execution_count": 4,
   "id": "d13f4604-cb45-487a-8e1c-6bded954c762",
   "metadata": {},
   "outputs": [
    {
     "name": "stdin",
     "output_type": "stream",
     "text": [
      "Enter A: 225\n",
      "Enter B: 3\n"
     ]
    },
    {
     "name": "stdout",
     "output_type": "stream",
     "text": [
      "225 is divisible by 3 & can be divided: 2 times\n"
     ]
    }
   ],
   "source": [
    "#Q5\n",
    "A=int(input(\"Enter A:\"))\n",
    "B=int(input(\"Enter B:\"))\n",
    "T=A\n",
    "\n",
    "count = 0\n",
    "\n",
    "while A%B==0:\n",
    "    A /= B\n",
    "    count+=1\n",
    "if count > 0:\n",
    "\tprint(T,\"is divisible by\",B,\"& can be divided:\",count,\"times\")\n",
    "else:\n",
    "    print(T,\"is not divisible by\",B)\n",
    "    "
   ]
  },
  {
   "cell_type": "code",
   "execution_count": 1,
   "id": "e94163f9-dba9-4e10-aa4c-3ca30281fc79",
   "metadata": {},
   "outputs": [],
   "source": [
    "#Q6\n",
    "ls=[12,11,4,6,3,2,8,5,15,13,19,17,18,21,23,27,31,32,43,51,63,71,89,94,104]"
   ]
  },
  {
   "cell_type": "code",
   "execution_count": 2,
   "id": "685c9bc8-cbbc-43b9-8dab-3319783b5307",
   "metadata": {},
   "outputs": [
    {
     "name": "stdout",
     "output_type": "stream",
     "text": [
      "12 is divisible by 3\n",
      "11 is not divisible by 3\n",
      "4 is not divisible by 3\n",
      "6 is divisible by 3\n",
      "3 is divisible by 3\n",
      "2 is not divisible by 3\n",
      "8 is not divisible by 3\n",
      "5 is not divisible by 3\n",
      "15 is divisible by 3\n",
      "13 is not divisible by 3\n",
      "19 is not divisible by 3\n",
      "17 is not divisible by 3\n",
      "18 is divisible by 3\n",
      "21 is divisible by 3\n",
      "23 is not divisible by 3\n",
      "27 is divisible by 3\n",
      "31 is not divisible by 3\n",
      "32 is not divisible by 3\n",
      "43 is not divisible by 3\n",
      "51 is divisible by 3\n",
      "63 is divisible by 3\n",
      "71 is not divisible by 3\n",
      "89 is not divisible by 3\n",
      "94 is not divisible by 3\n",
      "104 is not divisible by 3\n"
     ]
    }
   ],
   "source": [
    "for i in ls:\n",
    "    if i%3==0:\n",
    "        print(i, \"is divisible by 3\")\n",
    "    else:\n",
    "        print(i, \"is not divisible by 3\")\n",
    "        \n",
    "        "
   ]
  },
  {
   "cell_type": "code",
   "execution_count": 2,
   "id": "0521373a-6292-4282-969d-06b63067f01c",
   "metadata": {},
   "outputs": [
    {
     "ename": "TypeError",
     "evalue": "'str' object does not support item assignment",
     "output_type": "error",
     "traceback": [
      "\u001b[0;31m---------------------------------------------------------------------------\u001b[0m",
      "\u001b[0;31mTypeError\u001b[0m                                 Traceback (most recent call last)",
      "Cell \u001b[0;32mIn[2], line 6\u001b[0m\n\u001b[1;32m      1\u001b[0m \u001b[38;5;66;03m#immuatable data types- its value can not be changed once they are created.\u001b[39;00m\n\u001b[1;32m      2\u001b[0m \u001b[38;5;66;03m#eg.- string , int , float, tuples etc.\u001b[39;00m\n\u001b[1;32m      3\u001b[0m \n\u001b[1;32m      4\u001b[0m \u001b[38;5;66;03m#string\u001b[39;00m\n\u001b[1;32m      5\u001b[0m my_string\u001b[38;5;241m=\u001b[39m\u001b[38;5;124m\"\u001b[39m\u001b[38;5;124mHello\u001b[39m\u001b[38;5;124m\"\u001b[39m\n\u001b[0;32m----> 6\u001b[0m \u001b[43mmy_string\u001b[49m\u001b[43m[\u001b[49m\u001b[38;5;241;43m1\u001b[39;49m\u001b[43m]\u001b[49m\u001b[38;5;241m=\u001b[39m\u001b[38;5;124m'\u001b[39m\u001b[38;5;124ma\u001b[39m\u001b[38;5;124m'\u001b[39m\n",
      "\u001b[0;31mTypeError\u001b[0m: 'str' object does not support item assignment"
     ]
    }
   ],
   "source": [
    "#Q7\n",
    "#immuatable data types- its value can not be changed once they are created.\n",
    "#eg.- string , int , float, tuples etc.\n",
    "\n",
    "#string\n",
    "my_string=\"Hello\"\n",
    "my_string[1]='a'"
   ]
  },
  {
   "cell_type": "code",
   "execution_count": 3,
   "id": "3763df1a-e494-4038-87ca-bd274b919964",
   "metadata": {},
   "outputs": [
    {
     "ename": "TypeError",
     "evalue": "'tuple' object does not support item assignment",
     "output_type": "error",
     "traceback": [
      "\u001b[0;31m---------------------------------------------------------------------------\u001b[0m",
      "\u001b[0;31mTypeError\u001b[0m                                 Traceback (most recent call last)",
      "Cell \u001b[0;32mIn[3], line 3\u001b[0m\n\u001b[1;32m      1\u001b[0m \u001b[38;5;66;03m#tuples\u001b[39;00m\n\u001b[1;32m      2\u001b[0m my_tuple\u001b[38;5;241m=\u001b[39m(\u001b[38;5;241m14\u001b[39m,\u001b[38;5;241m35\u001b[39m,\u001b[38;5;241m24\u001b[39m)\n\u001b[0;32m----> 3\u001b[0m \u001b[43mmy_tuple\u001b[49m\u001b[43m[\u001b[49m\u001b[38;5;241;43m1\u001b[39;49m\u001b[43m]\u001b[49m\u001b[38;5;241m=\u001b[39m\u001b[38;5;241m67\u001b[39m\n",
      "\u001b[0;31mTypeError\u001b[0m: 'tuple' object does not support item assignment"
     ]
    }
   ],
   "source": [
    "#tuples\n",
    "my_tuple=(14,35,24)\n",
    "my_tuple[1]=67"
   ]
  },
  {
   "cell_type": "code",
   "execution_count": 4,
   "id": "93402f54-890a-4fe3-9cb7-9344cc660e0d",
   "metadata": {},
   "outputs": [],
   "source": [
    "#So modification is not possible in immuatable data types"
   ]
  },
  {
   "cell_type": "code",
   "execution_count": 5,
   "id": "0759f319-2aae-4004-bac2-8e8f29c4b40b",
   "metadata": {},
   "outputs": [],
   "source": [
    "# mutable data types- it allows modification in their values\n",
    "#eg.- list, dictionary, sets etc.\n",
    "\n",
    "#list\n",
    "my_list=[13,12,57,45,\"Hello\"]\n",
    "my_list[4]= 41"
   ]
  },
  {
   "cell_type": "code",
   "execution_count": 6,
   "id": "d7796338-c080-4d3a-a3c0-bf7a68961565",
   "metadata": {},
   "outputs": [
    {
     "name": "stdout",
     "output_type": "stream",
     "text": [
      "[13, 12, 57, 45, 41]\n"
     ]
    }
   ],
   "source": [
    "print(my_list)"
   ]
  },
  {
   "cell_type": "code",
   "execution_count": 7,
   "id": "48a5fbb3-1c12-45b1-ab33-fc211f954528",
   "metadata": {},
   "outputs": [],
   "source": [
    "#set\n",
    "my_set={1,2,3}\n",
    "my_set.add(4)"
   ]
  },
  {
   "cell_type": "code",
   "execution_count": 8,
   "id": "14297154-0df4-45fa-b59b-251c59c123cb",
   "metadata": {},
   "outputs": [
    {
     "name": "stdout",
     "output_type": "stream",
     "text": [
      "{1, 2, 3, 4}\n"
     ]
    }
   ],
   "source": [
    "print(my_set)"
   ]
  },
  {
   "cell_type": "code",
   "execution_count": null,
   "id": "e24dcac2-34b9-4c8a-9dbf-12953ced9b7f",
   "metadata": {},
   "outputs": [],
   "source": [
    "#So modification is possible in mutable data types"
   ]
  }
 ],
 "metadata": {
  "kernelspec": {
   "display_name": "Python 3 (ipykernel)",
   "language": "python",
   "name": "python3"
  },
  "language_info": {
   "codemirror_mode": {
    "name": "ipython",
    "version": 3
   },
   "file_extension": ".py",
   "mimetype": "text/x-python",
   "name": "python",
   "nbconvert_exporter": "python",
   "pygments_lexer": "ipython3",
   "version": "3.10.8"
  }
 },
 "nbformat": 4,
 "nbformat_minor": 5
}
